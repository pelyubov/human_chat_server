{
 "cells": [
  {
   "cell_type": "code",
   "execution_count": 1,
   "metadata": {},
   "outputs": [],
   "source": [
    "from gremlin_python.driver.driver_remote_connection import DriverRemoteConnection\n",
    "from gremlin_python.process.anonymous_traversal import traversal\n",
    "from gremlin_python.driver.aiohttp.transport import AiohttpTransport\n",
    "from gremlin_python.driver.serializer import GraphSONSerializersV3d0\n",
    "from gremlin_python.process.traversal import T, neq\n",
    "\n",
    "client = DriverRemoteConnection(\n",
    "    url=\"ws://172.24.10.1:8182/gremlin\",\n",
    "    transport_factory=lambda: AiohttpTransport(call_from_event_loop=True),\n",
    "    message_serializer=GraphSONSerializersV3d0(),\n",
    ")\n",
    "\n",
    "g = traversal().withRemote(client)"
   ]
  },
  {
   "cell_type": "code",
   "execution_count": 37,
   "metadata": {},
   "outputs": [],
   "source": [
    "from gremlin_python.structure.graph import *\n",
    "\n",
    "\n",
    "class VertexEx(Vertex):\n",
    "    def __init__(self, vertex: Vertex):\n",
    "        if not isinstance(vertex, Vertex):\n",
    "            raise TypeError(f\"Value is not a Vertex: {type(vertex)}\")\n",
    "        Vertex.__init__(self, vertex.id, vertex.label, vertex.properties)\n",
    "\n",
    "    def __repr__(self) -> str:\n",
    "        return '\\n'.join([\n",
    "            f\"Vertex [{self.id}] {self.label}, {\n",
    "                len(self.properties)} properties\",\n",
    "            *map(lambda x: str(x), self.properties)\n",
    "        ])"
   ]
  },
  {
   "cell_type": "code",
   "execution_count": null,
   "metadata": {},
   "outputs": [],
   "source": [
    "\n",
    "g.addV('Group').next()\n",
    "g.addV('User').next()\n",
    "\n",
    "\n",
    "g.V().hasLabel('Group').property(T.id, 'id').next()\n",
    "g.V().hasLabel('Group').property('name', 'name').next()\n",
    "g.V().hasLabel('User').property(T.id, 'id').next()\n",
    "\n",
    "g.V().hasLabel('User').addE('has').to(g.V().hasLabel('Group').next()).next()\n",
    "g.V().hasLabel('User').addE('belongsTo').to(g.V().hasLabel('Group').next()).next()\n",
    "g.V().hasLabel('User').as_('a').V().hasLabel('User').where(neq('a')).addE('friendsWith').to('a').next()\n"
   ]
  },
  {
   "cell_type": "code",
   "execution_count": 29,
   "metadata": {},
   "outputs": [
    {
     "data": {
      "text/plain": [
       "Vertex [4144] sayuri, 1 properties\n",
       "vp[silly->True]"
      ]
     },
     "execution_count": 29,
     "metadata": {},
     "output_type": "execute_result"
    }
   ],
   "source": [
    "user1 = g.addV('User').property('id', 101).property('name', 'hai').next()\n",
    "user2 = g.addV('User').property('id', 102).property('name', 'anh').next()\n",
    "group1 = g.addV('Group').property('id', 1).property('name', '500ae').next()\n",
    "\n",
    "g.V(user1).addE('belongsTo').to(g.V(group1).next()).next()\n",
    "g.V(user2).addE('belongsTo').to(g.V(group1).next()).next()\n",
    "g.V(user1).addE('friendsWith').to(g.V(user2).next()).next()"
   ]
  },
  {
   "cell_type": "code",
   "execution_count": 33,
   "metadata": {},
   "outputs": [
    {
     "data": {
      "text/plain": [
       "v[4280]"
      ]
     },
     "execution_count": 33,
     "metadata": {},
     "output_type": "execute_result"
    }
   ],
   "source": [
    "g.V().has_label('Group').values('name').toList()\n"
   ]
  },
  {
   "cell_type": "code",
   "execution_count": 42,
   "metadata": {},
   "outputs": [
    {
     "data": {
      "text/plain": [
       "Vertex [4280] cơm chiên trứng, 4 properties\n",
       "vp[nước mắm->5 chai]\n",
       "vp[hành ngò->500g]\n",
       "vp[ớt->1 rổ]\n",
       "vp[nghệ->cả hành tinh]"
      ]
     },
     "execution_count": 42,
     "metadata": {},
     "output_type": "execute_result"
    }
   ],
   "source": [
    "VertexEx(g.V().has_label(\"cơm chiên trứng\").next())"
   ]
  }
 ],
 "metadata": {
  "kernelspec": {
   "display_name": ".venv",
   "language": "python",
   "name": "python3"
  },
  "language_info": {
   "codemirror_mode": {
    "name": "ipython",
    "version": 3
   },
   "file_extension": ".py",
   "mimetype": "text/x-python",
   "name": "python",
   "nbconvert_exporter": "python",
   "pygments_lexer": "ipython3",
   "version": "3.12.3"
  }
 },
 "nbformat": 4,
 "nbformat_minor": 2
}
