{
 "cells": [
  {
   "cell_type": "code",
   "execution_count": 1,
   "metadata": {},
   "outputs": [],
   "source": [
    "from gremlin_python.driver.driver_remote_connection import DriverRemoteConnection\n",
    "from gremlin_python.process.anonymous_traversal import traversal\n",
    "from gremlin_python.driver.aiohttp.transport import AiohttpTransport\n",
    "from gremlin_python.driver.serializer import GraphSONSerializersV3d0\n",
    "\n",
    "client = DriverRemoteConnection(\n",
    "    url=\"ws://172.24.10.1:8182/gremlin\",\n",
    "    transport_factory=lambda: AiohttpTransport(call_from_event_loop=True),\n",
    "    message_serializer=GraphSONSerializersV3d0(),\n",
    ")\n",
    "\n",
    "g = traversal().withRemote(client)"
   ]
  },
  {
   "cell_type": "code",
   "execution_count": 37,
   "metadata": {},
   "outputs": [],
   "source": [
    "from gremlin_python.structure.graph import *\n",
    "\n",
    "\n",
    "class VertexEx(Vertex):\n",
    "    def __init__(self, vertex: Vertex):\n",
    "        if not isinstance(vertex, Vertex):\n",
    "            raise TypeError(f\"Value is not a Vertex: {type(vertex)}\")\n",
    "        Vertex.__init__(self, vertex.id, vertex.label, vertex.properties)\n",
    "\n",
    "    def __repr__(self) -> str:\n",
    "        return '\\n'.join([\n",
    "            f\"Vertex [{self.id}] {self.label}, {\n",
    "                len(self.properties)} properties\",\n",
    "            *map(lambda x: str(x), self.properties)\n",
    "        ])"
   ]
  },
  {
   "cell_type": "code",
   "execution_count": 29,
   "metadata": {},
   "outputs": [
    {
     "data": {
      "text/plain": [
       "Vertex [4144] sayuri, 1 properties\n",
       "vp[silly->True]"
      ]
     },
     "execution_count": 29,
     "metadata": {},
     "output_type": "execute_result"
    }
   ],
   "source": [
    "g.V().toList()[0].properties[0].key\n",
    "g.V().toList()[0].properties[0].value\n",
    "VertexEx(g.V().toList()[0])"
   ]
  },
  {
   "cell_type": "code",
   "execution_count": 33,
   "metadata": {},
   "outputs": [
    {
     "data": {
      "text/plain": [
       "v[4280]"
      ]
     },
     "execution_count": 33,
     "metadata": {},
     "output_type": "execute_result"
    }
   ],
   "source": [
    "g.addV(\"cơm chiên trứng\") \\\n",
    "    .property(\"hành ngò\", \"500g\") \\\n",
    "    .property(\"nước mắm\", \"5 chai\") \\\n",
    "    .property(\"ớt\", \"1 rổ\") \\\n",
    "    .property(\"nghệ\", \"cả hành tinh\") \\\n",
    "    .next()"
   ]
  },
  {
   "cell_type": "code",
   "execution_count": 42,
   "metadata": {},
   "outputs": [
    {
     "data": {
      "text/plain": [
       "Vertex [4280] cơm chiên trứng, 4 properties\n",
       "vp[nước mắm->5 chai]\n",
       "vp[hành ngò->500g]\n",
       "vp[ớt->1 rổ]\n",
       "vp[nghệ->cả hành tinh]"
      ]
     },
     "execution_count": 42,
     "metadata": {},
     "output_type": "execute_result"
    }
   ],
   "source": [
    "VertexEx(g.V().has_label(\"cơm chiên trứng\").next())"
   ]
  }
 ],
 "metadata": {
  "kernelspec": {
   "display_name": ".venv",
   "language": "python",
   "name": "python3"
  },
  "language_info": {
   "codemirror_mode": {
    "name": "ipython",
    "version": 3
   },
   "file_extension": ".py",
   "mimetype": "text/x-python",
   "name": "python",
   "nbconvert_exporter": "python",
   "pygments_lexer": "ipython3",
   "version": "3.12.3"
  }
 },
 "nbformat": 4,
 "nbformat_minor": 2
}
